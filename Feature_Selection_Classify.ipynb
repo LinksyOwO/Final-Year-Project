{
 "cells": [
  {
   "cell_type": "markdown",
   "id": "5bc69b59",
   "metadata": {},
   "source": [
    "## Importing Libraries"
   ]
  },
  {
   "cell_type": "code",
   "execution_count": 1,
   "id": "36ad8ce3",
   "metadata": {},
   "outputs": [],
   "source": [
    "import numpy as np\n",
    "import pandas as pd\n",
    "\n",
    "from sklearn.decomposition import PCA\n",
    "from sklearn.model_selection import train_test_split\n",
    "from sklearn.svm import SVC\n",
    "from sklearn.neighbors import KNeighborsClassifier\n",
    "from mlxtend.feature_selection import SequentialFeatureSelector as SFS\n",
    "from sklearn.tree import DecisionTreeClassifier\n",
    "from sklearn.ensemble import RandomForestClassifier\n",
    "from prettytable import PrettyTable\n",
    "from sklearn.preprocessing import LabelEncoder, LabelBinarizer\n",
    "\n",
    "from keras.models import Sequential\n",
    "from keras.layers.core import Dense\n",
    "from keras.layers import BatchNormalization, Dropout\n",
    "import tensorflow as tf\n",
    "from tensorflow import keras\n",
    "from tensorflow.keras.optimizers import Adam\n",
    "from sklearn.metrics import classification_report\n",
    "\n",
    "import warnings\n",
    "warnings.filterwarnings(\"ignore\")"
   ]
  },
  {
   "cell_type": "markdown",
   "id": "847437ac",
   "metadata": {},
   "source": [
    "## Loading Moment Invariants"
   ]
  },
  {
   "cell_type": "code",
   "execution_count": 2,
   "id": "fa54cdfb",
   "metadata": {},
   "outputs": [],
   "source": [
    "# reading the generated training moment\n",
    "train_df = pd.read_csv('C:/Users/noqui/Desktop/FYP\\Work_Folder_Testing/output/moment/Cassava/100/Cassava_Train_512.csv')\n",
    "\n",
    "# reading the generated testing moment\n",
    "test_df = pd.read_csv('C:/Users/noqui/Desktop/FYP\\Work_Folder_Testing/output/moment/Cassava/100/Cassava_Test_512.csv')\n",
    "\n",
    "train_df.reset_index(drop = True, inplace = True)\n",
    "train_df = train_df.dropna()\n",
    "\n",
    "test_df.reset_index(drop = True, inplace = True)\n",
    "test_df = test_df.dropna()"
   ]
  },
  {
   "cell_type": "markdown",
   "id": "d4c6850f",
   "metadata": {},
   "source": [
    "### Preparing the Datasets"
   ]
  },
  {
   "cell_type": "code",
   "execution_count": 3,
   "id": "62356477",
   "metadata": {},
   "outputs": [
    {
     "name": "stdout",
     "output_type": "stream",
     "text": [
      "(14980, 227)\n",
      "(6417, 227)\n"
     ]
    }
   ],
   "source": [
    "X_train_df = train_df.sort_values(['label'])\n",
    "X_train_df = X_train_df.drop(['Inm[1,1]'], axis = 1) # drop Inm[1,1]\n",
    "X_test_df = test_df.sort_values(['label'])\n",
    "X_test_df = X_test_df.drop(['Inm[1,1]'], axis = 1) # drop Inm[1,1]\n",
    "\n",
    "# reset index\n",
    "X_train_df.reset_index(inplace = True, drop = True)\n",
    "X_test_df.reset_index(inplace = True, drop = True)\n",
    "\n",
    "data = X_train_df.append([X_test_df])\n",
    "y = data['class']\n",
    "\n",
    "X_train_df = X_train_df.iloc[:,3:230].copy() # excluding (Inm[0,0], Inm[0,1], Inm[1,0])\n",
    "X_test_df = X_test_df.iloc[:,3:230].copy() # excluding (Inm[0,0], Inm[0,1], Inm[1,0])\n",
    "\n",
    "# apply normalization \n",
    "for column in X_train_df.columns:\n",
    "    X_train_df[column] = (X_train_df[column] - X_train_df[column].min()) / (X_train_df[column].max() - X_train_df[column].min()) \n",
    "\n",
    "for column in X_test_df.columns:\n",
    "    X_test_df[column] = (X_test_df[column] - X_test_df[column].min()) / (X_test_df[column].max() - X_test_df[column].min()) \n",
    "    \n",
    "print(X_train_df.shape)\n",
    "print(X_test_df.shape)"
   ]
  },
  {
   "cell_type": "code",
   "execution_count": 4,
   "id": "a32a362e",
   "metadata": {},
   "outputs": [
    {
     "data": {
      "text/plain": [
       "((21397, 227), (21397,))"
      ]
     },
     "execution_count": 4,
     "metadata": {},
     "output_type": "execute_result"
    }
   ],
   "source": [
    "X = X_train_df.append([X_test_df])\n",
    "\n",
    "label_encoder = LabelEncoder()\n",
    "y = label_encoder.fit_transform(y)\n",
    "X.shape, y.shape"
   ]
  },
  {
   "cell_type": "code",
   "execution_count": 5,
   "id": "7df7b6ca",
   "metadata": {},
   "outputs": [
    {
     "name": "stdout",
     "output_type": "stream",
     "text": [
      "(14977, 227) (6420, 227)\n",
      "(14977,) (6420,)\n"
     ]
    }
   ],
   "source": [
    "#Split the data in training set and test set.\n",
    "X_train, X_test, y_train, y_test = train_test_split(X, y, test_size = 0.3, random_state = 27)\n",
    "\n",
    "print(X_train.shape, X_test.shape)\n",
    "print(y_train.shape, y_test.shape)"
   ]
  },
  {
   "cell_type": "code",
   "execution_count": 6,
   "id": "3ccf3ab3",
   "metadata": {},
   "outputs": [
    {
     "data": {
      "text/plain": [
       "((14977, 19), (6420, 19))"
      ]
     },
     "execution_count": 6,
     "metadata": {},
     "output_type": "execute_result"
    }
   ],
   "source": [
    "def correlation(dataset, threshold):\n",
    "    col_corr = set() # set will contain unique values.\n",
    "    corr_matrix = dataset.corr() # finding the correlation between columns.\n",
    "    for i in range(len(corr_matrix.columns)): \n",
    "        for j in range(i):\n",
    "            if abs(corr_matrix.iloc[i, j]) > threshold: # checking the correlation between columns.\n",
    "                colName = corr_matrix.columns[i]\n",
    "                col_corr.add(colName) # adding the correlated column name heigher than threshold value.\n",
    "    return col_corr\n",
    "\n",
    "col = correlation(X_train, 0.7)\n",
    "\n",
    "#remove correlated columns\n",
    "X_train.drop(columns = col, axis = 1, inplace = True)\n",
    "X_test.drop(columns = col, axis = 1, inplace = True)\n",
    "\n",
    "# lets check the shape of training set and test set.\n",
    "X_train.shape, X_test.shape"
   ]
  },
  {
   "cell_type": "code",
   "execution_count": 7,
   "id": "16d0bb7f",
   "metadata": {
    "scrolled": false
   },
   "outputs": [
    {
     "name": "stderr",
     "output_type": "stream",
     "text": [
      "[Parallel(n_jobs=-1)]: Using backend LokyBackend with 12 concurrent workers.\n",
      "[Parallel(n_jobs=-1)]: Done   6 out of  19 | elapsed:    2.9s remaining:    6.5s\n",
      "[Parallel(n_jobs=-1)]: Done  16 out of  19 | elapsed:    3.8s remaining:    0.6s\n",
      "[Parallel(n_jobs=-1)]: Done  19 out of  19 | elapsed:    3.9s finished\n",
      "\n",
      "[2023-06-08 22:52:18] Features: 1/10 -- score: 0.5213334640957002[Parallel(n_jobs=-1)]: Using backend LokyBackend with 12 concurrent workers.\n",
      "[Parallel(n_jobs=-1)]: Done   5 out of  18 | elapsed:    1.1s remaining:    3.1s\n",
      "[Parallel(n_jobs=-1)]: Done  15 out of  18 | elapsed:    2.2s remaining:    0.4s\n",
      "[Parallel(n_jobs=-1)]: Done  18 out of  18 | elapsed:    2.2s finished\n",
      "\n",
      "[2023-06-08 22:52:21] Features: 2/10 -- score: 0.5248054724050543[Parallel(n_jobs=-1)]: Using backend LokyBackend with 12 concurrent workers.\n",
      "[Parallel(n_jobs=-1)]: Done   3 out of  17 | elapsed:    1.4s remaining:    6.8s\n",
      "[Parallel(n_jobs=-1)]: Done  12 out of  17 | elapsed:    2.8s remaining:    1.1s\n",
      "[Parallel(n_jobs=-1)]: Done  17 out of  17 | elapsed:    3.6s finished\n",
      "\n",
      "[2023-06-08 22:52:24] Features: 3/10 -- score: 0.5261410093814568[Parallel(n_jobs=-1)]: Using backend LokyBackend with 12 concurrent workers.\n",
      "[Parallel(n_jobs=-1)]: Done   2 out of  16 | elapsed:    1.8s remaining:   13.1s\n",
      "[Parallel(n_jobs=-1)]: Done  11 out of  16 | elapsed:    2.4s remaining:    1.0s\n",
      "[Parallel(n_jobs=-1)]: Done  16 out of  16 | elapsed:    3.5s finished\n",
      "\n",
      "[2023-06-08 22:52:28] Features: 4/10 -- score: 0.5300127493307716[Parallel(n_jobs=-1)]: Using backend LokyBackend with 12 concurrent workers.\n",
      "[Parallel(n_jobs=-1)]: Done   8 out of  15 | elapsed:    2.3s remaining:    2.0s\n",
      "[Parallel(n_jobs=-1)]: Done  15 out of  15 | elapsed:    3.7s finished\n",
      "\n",
      "[2023-06-08 22:52:32] Features: 5/10 -- score: 0.5333509788231833[Parallel(n_jobs=-1)]: Using backend LokyBackend with 12 concurrent workers.\n",
      "[Parallel(n_jobs=-1)]: Done   7 out of  14 | elapsed:    2.7s remaining:    2.7s\n",
      "[Parallel(n_jobs=-1)]: Done  14 out of  14 | elapsed:    4.5s finished\n",
      "\n",
      "[2023-06-08 22:52:36] Features: 6/10 -- score: 0.5348202277494087[Parallel(n_jobs=-1)]: Using backend LokyBackend with 12 concurrent workers.\n",
      "[Parallel(n_jobs=-1)]: Done   4 out of  13 | elapsed:    4.6s remaining:   10.4s\n",
      "[Parallel(n_jobs=-1)]: Done  11 out of  13 | elapsed:    6.1s remaining:    1.0s\n",
      "[Parallel(n_jobs=-1)]: Done  13 out of  13 | elapsed:    7.1s finished\n",
      "\n",
      "[2023-06-08 22:52:44] Features: 7/10 -- score: 0.5409627527855728[Parallel(n_jobs=-1)]: Using backend LokyBackend with 12 concurrent workers.\n",
      "[Parallel(n_jobs=-1)]: Done   3 out of  12 | elapsed:    3.2s remaining:    9.9s\n",
      "[Parallel(n_jobs=-1)]: Done  10 out of  12 | elapsed:    3.7s remaining:    0.7s\n",
      "[Parallel(n_jobs=-1)]: Done  12 out of  12 | elapsed:    3.8s finished\n",
      "\n",
      "[2023-06-08 22:52:48] Features: 8/10 -- score: 0.5431660020817963[Parallel(n_jobs=-1)]: Using backend LokyBackend with 12 concurrent workers.\n",
      "[Parallel(n_jobs=-1)]: Done   6 out of  11 | elapsed:    3.0s remaining:    2.5s\n",
      "[Parallel(n_jobs=-1)]: Done  11 out of  11 | elapsed:    3.3s finished\n",
      "\n",
      "[2023-06-08 22:52:51] Features: 9/10 -- score: 0.5439008494353071[Parallel(n_jobs=-1)]: Using backend LokyBackend with 12 concurrent workers.\n",
      "[Parallel(n_jobs=-1)]: Done   5 out of  10 | elapsed:    3.9s remaining:    3.9s\n",
      "[Parallel(n_jobs=-1)]: Done  10 out of  10 | elapsed:    4.3s finished\n",
      "\n",
      "[2023-06-08 22:52:56] Features: 10/10 -- score: 0.5419642885004157"
     ]
    },
    {
     "data": {
      "text/plain": [
       "SequentialFeatureSelector(estimator=KNeighborsClassifier(), k_features=10,\n",
       "                          n_jobs=-1, scoring='accuracy', verbose=2)"
      ]
     },
     "execution_count": 7,
     "metadata": {},
     "output_type": "execute_result"
    }
   ],
   "source": [
    "model = SFS(KNeighborsClassifier(n_neighbors = 5), k_features = 10, forward = True, floating = False, \n",
    "            n_jobs = -1, verbose = 2, scoring = 'accuracy', cv = 5)\n",
    "\n",
    "model.fit(X_train, y_train) "
   ]
  },
  {
   "cell_type": "code",
   "execution_count": 8,
   "id": "a01bbab5",
   "metadata": {},
   "outputs": [
    {
     "name": "stdout",
     "output_type": "stream",
     "text": [
      "Train (14977, 4)\n",
      "Test (6420, 4)\n",
      "\n",
      "Train (14977, 6)\n",
      "Test (6420, 6)\n",
      "\n",
      "Train (14977, 8)\n",
      "Test (6420, 8)\n",
      "\n",
      "Train (14977, 10)\n",
      "Test (6420, 10)\n"
     ]
    }
   ],
   "source": [
    "X_train_Features = model.transform(X_train)\n",
    "X_test_Features = model.transform(X_test)\n",
    "\n",
    "X_train_Features_4 = X_train_Features[:, 0:4]\n",
    "X_test_Features_4 = X_test_Features[:, 0:4]\n",
    "print(\"Train\", X_train_Features_4.shape)\n",
    "print(\"Test\", X_test_Features_4.shape)\n",
    "print()\n",
    "##########################################################\n",
    "\n",
    "X_train_Features_6 = X_train_Features[:, 0:6]\n",
    "X_test_Features_6 = X_test_Features[:, 0:6]\n",
    "print(\"Train\", X_train_Features_6.shape)\n",
    "print(\"Test\", X_test_Features_6.shape)\n",
    "print()\n",
    "##########################################################\n",
    "\n",
    "X_train_Features_8 = X_train_Features[:, 0:8]\n",
    "X_test_Features_8 = X_test_Features[:, 0:8]\n",
    "print(\"Train\", X_train_Features_8.shape)\n",
    "print(\"Test\", X_test_Features_8.shape)\n",
    "print()\n",
    "##########################################################\n",
    "\n",
    "X_train_Features_10 = X_train_Features[:, 0:10]\n",
    "X_test_Features_10 = X_test_Features[:, 0:10]\n",
    "print(\"Train\", X_train_Features_10.shape)\n",
    "print(\"Test\", X_test_Features_10.shape)"
   ]
  },
  {
   "cell_type": "code",
   "execution_count": 9,
   "id": "b7b87a1c",
   "metadata": {},
   "outputs": [
    {
     "name": "stdout",
     "output_type": "stream",
     "text": [
      "Train (14977, 2)\n",
      "Test (6420, 2)\n",
      "\n",
      "Train (14977, 4)\n",
      "Test (6420, 4)\n",
      "\n",
      "Train (14977, 6)\n",
      "Test (6420, 6)\n"
     ]
    }
   ],
   "source": [
    "num_components = 2\n",
    "pca = PCA(n_components=num_components)\n",
    "\n",
    "principalComponents_train = pca.fit_transform(X_train_Features_10)\n",
    "X_train_pca2 = pd.DataFrame(principalComponents_train)\n",
    "print(\"Train\", X_train_pca2.shape)\n",
    "\n",
    "principalComponents_test = pca.fit_transform(X_test_Features_10)\n",
    "X_test_pca2 = pd.DataFrame(principalComponents_test)\n",
    "print(\"Test\", X_test_pca2.shape)\n",
    "print()\n",
    "##########################################################\n",
    "\n",
    "num_components = 4\n",
    "pca = PCA(n_components = num_components)\n",
    "\n",
    "principalComponents_train = pca.fit_transform(X_train_Features_10)\n",
    "X_train_pca4 = pd.DataFrame(principalComponents_train)\n",
    "print(\"Train\", X_train_pca4.shape)\n",
    "\n",
    "principalComponents_test = pca.fit_transform(X_test_Features_10)\n",
    "X_test_pca4 = pd.DataFrame(principalComponents_test)\n",
    "print(\"Test\", X_test_pca4.shape)\n",
    "print()\n",
    "##########################################################\n",
    "\n",
    "num_components = 6\n",
    "pca = PCA(n_components = num_components)\n",
    "\n",
    "principalComponents_train = pca.fit_transform(X_train_Features_10)\n",
    "X_train_pca6 = pd.DataFrame(principalComponents_train)\n",
    "print(\"Train\", X_train_pca6.shape)\n",
    "\n",
    "principalComponents_test = pca.fit_transform(X_test_Features_10)\n",
    "X_test_pca6 = pd.DataFrame(principalComponents_test)\n",
    "print(\"Test\", X_test_pca6.shape)"
   ]
  },
  {
   "cell_type": "code",
   "execution_count": 10,
   "id": "39a3b381",
   "metadata": {},
   "outputs": [],
   "source": [
    "trainsets = [\n",
    "    X_train_Features_4, X_train_Features_6, X_train_Features_8, X_train_Features_10, X_train_pca2, X_train_pca4, X_train_pca6\n",
    "]\n",
    "\n",
    "testsets = [\n",
    "    X_test_Features_4, X_test_Features_6, X_test_Features_8, X_test_Features_10, X_test_pca2, X_test_pca4, X_test_pca6\n",
    "]\n",
    "\n",
    "featureSelectionMethods = [\n",
    "    \"4 Features\", \"6 Features\", \"8 Features\", \"10 Features\", \"PCA 2\", \"PCA 4\", \"PCA 6\"\n",
    "]"
   ]
  },
  {
   "cell_type": "markdown",
   "id": "5cf144f9",
   "metadata": {},
   "source": [
    "## Classification"
   ]
  },
  {
   "cell_type": "code",
   "execution_count": 11,
   "id": "76ad1315",
   "metadata": {},
   "outputs": [],
   "source": [
    "# Classification Model\n",
    "def modelTraining(model):\n",
    "    for train, test, fSMethod in zip(trainsets, testsets, featureSelectionMethods):\n",
    "        print(f\"Feature Selection with {fSMethod}\")\n",
    "        model = model.fit(train, y_train)\n",
    "\n",
    "        summary = PrettyTable()\n",
    "        summary.field_names = [\"Score (%)\"]\n",
    "        summary.add_row([round(model.score(test, y_test) * 100, 2)])\n",
    "        print(summary)"
   ]
  },
  {
   "cell_type": "markdown",
   "id": "5107a602",
   "metadata": {},
   "source": [
    "### Support Vector Classifier"
   ]
  },
  {
   "cell_type": "code",
   "execution_count": 12,
   "id": "2aedba98",
   "metadata": {
    "scrolled": false
   },
   "outputs": [
    {
     "name": "stdout",
     "output_type": "stream",
     "text": [
      "Feature Selection with 4 Features\n",
      "+-----------+\n",
      "| Score (%) |\n",
      "+-----------+\n",
      "|   62.74   |\n",
      "+-----------+\n",
      "Feature Selection with 6 Features\n",
      "+-----------+\n",
      "| Score (%) |\n",
      "+-----------+\n",
      "|   62.74   |\n",
      "+-----------+\n",
      "Feature Selection with 8 Features\n",
      "+-----------+\n",
      "| Score (%) |\n",
      "+-----------+\n",
      "|   62.74   |\n",
      "+-----------+\n",
      "Feature Selection with 10 Features\n",
      "+-----------+\n",
      "| Score (%) |\n",
      "+-----------+\n",
      "|   62.74   |\n",
      "+-----------+\n",
      "Feature Selection with PCA 2\n",
      "+-----------+\n",
      "| Score (%) |\n",
      "+-----------+\n",
      "|   62.76   |\n",
      "+-----------+\n",
      "Feature Selection with PCA 4\n",
      "+-----------+\n",
      "| Score (%) |\n",
      "+-----------+\n",
      "|   62.76   |\n",
      "+-----------+\n",
      "Feature Selection with PCA 6\n",
      "+-----------+\n",
      "| Score (%) |\n",
      "+-----------+\n",
      "|   62.76   |\n",
      "+-----------+\n"
     ]
    }
   ],
   "source": [
    "model = SVC()\n",
    "modelTraining(model)"
   ]
  },
  {
   "cell_type": "markdown",
   "id": "50a2fc01",
   "metadata": {},
   "source": [
    "### K-Nearest Neighbors Classifier"
   ]
  },
  {
   "cell_type": "code",
   "execution_count": 13,
   "id": "fd6a9821",
   "metadata": {
    "scrolled": false
   },
   "outputs": [
    {
     "name": "stdout",
     "output_type": "stream",
     "text": [
      "Feature Selection with 4 Features\n",
      "+-----------+\n",
      "| Score (%) |\n",
      "+-----------+\n",
      "|   62.73   |\n",
      "+-----------+\n",
      "Feature Selection with 6 Features\n",
      "+-----------+\n",
      "| Score (%) |\n",
      "+-----------+\n",
      "|   62.71   |\n",
      "+-----------+\n",
      "Feature Selection with 8 Features\n",
      "+-----------+\n",
      "| Score (%) |\n",
      "+-----------+\n",
      "|   62.76   |\n",
      "+-----------+\n",
      "Feature Selection with 10 Features\n",
      "+-----------+\n",
      "| Score (%) |\n",
      "+-----------+\n",
      "|   62.73   |\n",
      "+-----------+\n",
      "Feature Selection with PCA 2\n",
      "+-----------+\n",
      "| Score (%) |\n",
      "+-----------+\n",
      "|   62.69   |\n",
      "+-----------+\n",
      "Feature Selection with PCA 4\n",
      "+-----------+\n",
      "| Score (%) |\n",
      "+-----------+\n",
      "|   62.69   |\n",
      "+-----------+\n",
      "Feature Selection with PCA 6\n",
      "+-----------+\n",
      "| Score (%) |\n",
      "+-----------+\n",
      "|   62.73   |\n",
      "+-----------+\n"
     ]
    }
   ],
   "source": [
    "model = KNeighborsClassifier(30)\n",
    "modelTraining(model)"
   ]
  },
  {
   "cell_type": "markdown",
   "id": "b63bc32d",
   "metadata": {},
   "source": [
    "### Decision Tree Classifier"
   ]
  },
  {
   "cell_type": "code",
   "execution_count": 14,
   "id": "422872a3",
   "metadata": {
    "scrolled": false
   },
   "outputs": [
    {
     "name": "stdout",
     "output_type": "stream",
     "text": [
      "Feature Selection with 4 Features\n",
      "+-----------+\n",
      "| Score (%) |\n",
      "+-----------+\n",
      "|   62.76   |\n",
      "+-----------+\n",
      "Feature Selection with 6 Features\n",
      "+-----------+\n",
      "| Score (%) |\n",
      "+-----------+\n",
      "|   62.69   |\n",
      "+-----------+\n",
      "Feature Selection with 8 Features\n",
      "+-----------+\n",
      "| Score (%) |\n",
      "+-----------+\n",
      "|   62.62   |\n",
      "+-----------+\n",
      "Feature Selection with 10 Features\n",
      "+-----------+\n",
      "| Score (%) |\n",
      "+-----------+\n",
      "|   62.62   |\n",
      "+-----------+\n",
      "Feature Selection with PCA 2\n",
      "+-----------+\n",
      "| Score (%) |\n",
      "+-----------+\n",
      "|   62.76   |\n",
      "+-----------+\n",
      "Feature Selection with PCA 4\n",
      "+-----------+\n",
      "| Score (%) |\n",
      "+-----------+\n",
      "|   62.76   |\n",
      "+-----------+\n",
      "Feature Selection with PCA 6\n",
      "+-----------+\n",
      "| Score (%) |\n",
      "+-----------+\n",
      "|   62.77   |\n",
      "+-----------+\n"
     ]
    }
   ],
   "source": [
    "model = DecisionTreeClassifier(criterion = 'entropy', max_depth = 3, splitter = 'best')\n",
    "modelTraining(model)"
   ]
  },
  {
   "cell_type": "markdown",
   "id": "2b9b6517",
   "metadata": {},
   "source": [
    "### Random Forest Classifier"
   ]
  },
  {
   "cell_type": "code",
   "execution_count": 15,
   "id": "0914bdca",
   "metadata": {
    "scrolled": false
   },
   "outputs": [
    {
     "name": "stdout",
     "output_type": "stream",
     "text": [
      "Feature Selection with 4 Features\n",
      "+-----------+\n",
      "| Score (%) |\n",
      "+-----------+\n",
      "|   62.76   |\n",
      "+-----------+\n",
      "Feature Selection with 6 Features\n",
      "+-----------+\n",
      "| Score (%) |\n",
      "+-----------+\n",
      "|   62.76   |\n",
      "+-----------+\n",
      "Feature Selection with 8 Features\n",
      "+-----------+\n",
      "| Score (%) |\n",
      "+-----------+\n",
      "|   62.74   |\n",
      "+-----------+\n",
      "Feature Selection with 10 Features\n",
      "+-----------+\n",
      "| Score (%) |\n",
      "+-----------+\n",
      "|   62.73   |\n",
      "+-----------+\n",
      "Feature Selection with PCA 2\n",
      "+-----------+\n",
      "| Score (%) |\n",
      "+-----------+\n",
      "|   62.74   |\n",
      "+-----------+\n",
      "Feature Selection with PCA 4\n",
      "+-----------+\n",
      "| Score (%) |\n",
      "+-----------+\n",
      "|   62.77   |\n",
      "+-----------+\n",
      "Feature Selection with PCA 6\n",
      "+-----------+\n",
      "| Score (%) |\n",
      "+-----------+\n",
      "|   62.76   |\n",
      "+-----------+\n"
     ]
    }
   ],
   "source": [
    "model = RandomForestClassifier(max_depth = 6, random_state = 0)\n",
    "modelTraining(model)"
   ]
  },
  {
   "cell_type": "markdown",
   "id": "607538da",
   "metadata": {},
   "source": [
    "### Neural Network"
   ]
  },
  {
   "cell_type": "code",
   "execution_count": 16,
   "id": "0565b646",
   "metadata": {},
   "outputs": [
    {
     "name": "stdout",
     "output_type": "stream",
     "text": [
      "(14977,)\n",
      "(6420,)\n"
     ]
    }
   ],
   "source": [
    "# convert the labels from integers to one-hot-encoded vectors\n",
    "lb = LabelEncoder()\n",
    "y_train = lb.fit_transform(y_train)\n",
    "y_test = lb.transform(y_test)\n",
    "\n",
    "print(y_train.shape)\n",
    "print(y_test.shape)"
   ]
  },
  {
   "cell_type": "code",
   "execution_count": 17,
   "id": "3995b0f7",
   "metadata": {},
   "outputs": [
    {
     "name": "stdout",
     "output_type": "stream",
     "text": [
      "(14977, 5)\n",
      "(6420, 5)\n"
     ]
    }
   ],
   "source": [
    "y_train = tf.keras.utils.to_categorical(y_train, num_classes = 5)\n",
    "y_test = tf.keras.utils.to_categorical(y_test, num_classes = 5)\n",
    "\n",
    "print(y_train.shape)\n",
    "print(y_test.shape)"
   ]
  },
  {
   "cell_type": "code",
   "execution_count": 18,
   "id": "5cdc7c3e",
   "metadata": {},
   "outputs": [],
   "source": [
    "# Reduce learning rate when there is a change lesser than <min_delta> in <val_accuracy> for more than <patience> epochs\n",
    "reduce_lr = tf.keras.callbacks.ReduceLROnPlateau(monitor = 'val_accuracy', mode = 'max', min_delta = 0.01,\n",
    "                                                                                    patience = 3, factor = 0.25, verbose = 1, cooldown = 0, min_lr = 0.0001)\n",
    "\n",
    "early_stopper = tf.keras.callbacks.EarlyStopping(monitor = 'val_accuracy', mode = 'max', min_delta = 0.005,\n",
    "                                                                                 patience = 10, verbose = 1, restore_best_weights = True)"
   ]
  },
  {
   "cell_type": "code",
   "execution_count": 19,
   "id": "ea1a46cb",
   "metadata": {
    "scrolled": true
   },
   "outputs": [
    {
     "name": "stdout",
     "output_type": "stream",
     "text": [
      "Feature Selection with 4 Features\n",
      "Epoch 1/20\n",
      "469/469 [==============================] - 2s 2ms/step - loss: 1.2093 - accuracy: 0.6079 - val_loss: 1.1618 - val_accuracy: 0.6277 - lr: 0.0010\n",
      "Epoch 2/20\n",
      "469/469 [==============================] - 1s 2ms/step - loss: 1.1942 - accuracy: 0.6095 - val_loss: 1.1597 - val_accuracy: 0.6276 - lr: 0.0010\n",
      "Epoch 3/20\n",
      "469/469 [==============================] - 1s 2ms/step - loss: 1.1927 - accuracy: 0.6095 - val_loss: 1.1605 - val_accuracy: 0.6276 - lr: 0.0010\n",
      "Epoch 4/20\n",
      "451/469 [===========================>..] - ETA: 0s - loss: 1.1932 - accuracy: 0.6085\n",
      "Epoch 4: ReduceLROnPlateau reducing learning rate to 0.0002500000118743628.\n",
      "469/469 [==============================] - 1s 2ms/step - loss: 1.1918 - accuracy: 0.6096 - val_loss: 1.1552 - val_accuracy: 0.6276 - lr: 0.0010\n",
      "Epoch 5/20\n",
      "469/469 [==============================] - 1s 2ms/step - loss: 1.1898 - accuracy: 0.6097 - val_loss: 1.1565 - val_accuracy: 0.6276 - lr: 2.5000e-04\n",
      "Epoch 6/20\n",
      "469/469 [==============================] - 1s 2ms/step - loss: 1.1885 - accuracy: 0.6098 - val_loss: 1.1567 - val_accuracy: 0.6276 - lr: 2.5000e-04\n",
      "Epoch 7/20\n",
      "458/469 [============================>.] - ETA: 0s - loss: 1.1905 - accuracy: 0.6094\n",
      "Epoch 7: ReduceLROnPlateau reducing learning rate to 0.0001.\n",
      "469/469 [==============================] - 1s 2ms/step - loss: 1.1902 - accuracy: 0.6097 - val_loss: 1.1545 - val_accuracy: 0.6276 - lr: 2.5000e-04\n",
      "Epoch 8/20\n",
      "469/469 [==============================] - 1s 2ms/step - loss: 1.1872 - accuracy: 0.6097 - val_loss: 1.1542 - val_accuracy: 0.6276 - lr: 1.0000e-04\n",
      "Epoch 9/20\n",
      "469/469 [==============================] - 1s 2ms/step - loss: 1.1889 - accuracy: 0.6097 - val_loss: 1.1543 - val_accuracy: 0.6276 - lr: 1.0000e-04\n",
      "Epoch 10/20\n",
      "469/469 [==============================] - 1s 2ms/step - loss: 1.1875 - accuracy: 0.6097 - val_loss: 1.1549 - val_accuracy: 0.6276 - lr: 1.0000e-04\n",
      "Epoch 11/20\n",
      "447/469 [===========================>..] - ETA: 0s - loss: 1.1890 - accuracy: 0.6086Restoring model weights from the end of the best epoch: 1.\n",
      "469/469 [==============================] - 1s 2ms/step - loss: 1.1869 - accuracy: 0.6097 - val_loss: 1.1545 - val_accuracy: 0.6276 - lr: 1.0000e-04\n",
      "Epoch 11: early stopping\n",
      "201/201 [==============================] - 0s 926us/step - loss: 1.1618 - accuracy: 0.6277\n",
      "Test accuracy: 0.6277258396148682\n",
      "\n",
      "\n",
      "Feature Selection with 6 Features\n",
      "Epoch 1/20\n",
      "469/469 [==============================] - 2s 2ms/step - loss: 1.1991 - accuracy: 0.6077 - val_loss: 1.1534 - val_accuracy: 0.6276 - lr: 0.0010\n",
      "Epoch 2/20\n",
      "469/469 [==============================] - 1s 2ms/step - loss: 1.1901 - accuracy: 0.6095 - val_loss: 1.1528 - val_accuracy: 0.6276 - lr: 0.0010\n",
      "Epoch 3/20\n",
      "469/469 [==============================] - 1s 2ms/step - loss: 1.1888 - accuracy: 0.6095 - val_loss: 1.1530 - val_accuracy: 0.6277 - lr: 0.0010\n",
      "Epoch 4/20\n",
      "452/469 [===========================>..] - ETA: 0s - loss: 1.1862 - accuracy: 0.6101\n",
      "Epoch 4: ReduceLROnPlateau reducing learning rate to 0.0002500000118743628.\n",
      "469/469 [==============================] - 1s 2ms/step - loss: 1.1872 - accuracy: 0.6096 - val_loss: 1.1534 - val_accuracy: 0.6276 - lr: 0.0010\n",
      "Epoch 5/20\n",
      "469/469 [==============================] - 1s 2ms/step - loss: 1.1851 - accuracy: 0.6098 - val_loss: 1.1518 - val_accuracy: 0.6277 - lr: 2.5000e-04\n",
      "Epoch 6/20\n",
      "469/469 [==============================] - 1s 2ms/step - loss: 1.1840 - accuracy: 0.6098 - val_loss: 1.1516 - val_accuracy: 0.6276 - lr: 2.5000e-04\n",
      "Epoch 7/20\n",
      "450/469 [===========================>..] - ETA: 0s - loss: 1.1820 - accuracy: 0.6107\n",
      "Epoch 7: ReduceLROnPlateau reducing learning rate to 0.0001.\n",
      "469/469 [==============================] - 1s 2ms/step - loss: 1.1831 - accuracy: 0.6097 - val_loss: 1.1519 - val_accuracy: 0.6277 - lr: 2.5000e-04\n",
      "Epoch 8/20\n",
      "469/469 [==============================] - 1s 2ms/step - loss: 1.1826 - accuracy: 0.6097 - val_loss: 1.1499 - val_accuracy: 0.6276 - lr: 1.0000e-04\n",
      "Epoch 9/20\n",
      "469/469 [==============================] - 1s 2ms/step - loss: 1.1830 - accuracy: 0.6098 - val_loss: 1.1497 - val_accuracy: 0.6277 - lr: 1.0000e-04\n",
      "Epoch 10/20\n",
      "469/469 [==============================] - 1s 2ms/step - loss: 1.1822 - accuracy: 0.6097 - val_loss: 1.1492 - val_accuracy: 0.6277 - lr: 1.0000e-04\n",
      "Epoch 11/20\n",
      "444/469 [===========================>..] - ETA: 0s - loss: 1.1799 - accuracy: 0.6114Restoring model weights from the end of the best epoch: 1.\n",
      "469/469 [==============================] - 1s 2ms/step - loss: 1.1819 - accuracy: 0.6097 - val_loss: 1.1524 - val_accuracy: 0.6274 - lr: 1.0000e-04\n",
      "Epoch 11: early stopping\n",
      "201/201 [==============================] - 0s 1ms/step - loss: 1.1534 - accuracy: 0.6276\n",
      "Test accuracy: 0.6275700926780701\n",
      "\n",
      "\n",
      "Feature Selection with 8 Features\n",
      "Epoch 1/20\n",
      "469/469 [==============================] - 2s 2ms/step - loss: 1.1964 - accuracy: 0.6069 - val_loss: 1.1597 - val_accuracy: 0.6276 - lr: 0.0010\n",
      "Epoch 2/20\n",
      "469/469 [==============================] - 1s 2ms/step - loss: 1.1883 - accuracy: 0.6095 - val_loss: 1.1514 - val_accuracy: 0.6276 - lr: 0.0010\n",
      "Epoch 3/20\n",
      "469/469 [==============================] - 1s 2ms/step - loss: 1.1851 - accuracy: 0.6095 - val_loss: 1.1485 - val_accuracy: 0.6277 - lr: 0.0010\n",
      "Epoch 4/20\n",
      "442/469 [===========================>..] - ETA: 0s - loss: 1.1810 - accuracy: 0.6116\n",
      "Epoch 4: ReduceLROnPlateau reducing learning rate to 0.0002500000118743628.\n",
      "469/469 [==============================] - 1s 2ms/step - loss: 1.1843 - accuracy: 0.6095 - val_loss: 1.1558 - val_accuracy: 0.6277 - lr: 0.0010\n",
      "Epoch 5/20\n",
      "469/469 [==============================] - 1s 2ms/step - loss: 1.1808 - accuracy: 0.6097 - val_loss: 1.1467 - val_accuracy: 0.6276 - lr: 2.5000e-04\n",
      "Epoch 6/20\n",
      "469/469 [==============================] - 1s 2ms/step - loss: 1.1794 - accuracy: 0.6095 - val_loss: 1.1477 - val_accuracy: 0.6277 - lr: 2.5000e-04\n",
      "Epoch 7/20\n",
      "437/469 [==========================>...] - ETA: 0s - loss: 1.1799 - accuracy: 0.6091\n",
      "Epoch 7: ReduceLROnPlateau reducing learning rate to 0.0001.\n",
      "469/469 [==============================] - 1s 2ms/step - loss: 1.1793 - accuracy: 0.6095 - val_loss: 1.1460 - val_accuracy: 0.6277 - lr: 2.5000e-04\n",
      "Epoch 8/20\n",
      "469/469 [==============================] - 1s 2ms/step - loss: 1.1783 - accuracy: 0.6096 - val_loss: 1.1461 - val_accuracy: 0.6277 - lr: 1.0000e-04\n",
      "Epoch 9/20\n",
      "469/469 [==============================] - 1s 2ms/step - loss: 1.1787 - accuracy: 0.6095 - val_loss: 1.1459 - val_accuracy: 0.6277 - lr: 1.0000e-04\n",
      "Epoch 10/20\n",
      "469/469 [==============================] - 1s 2ms/step - loss: 1.1784 - accuracy: 0.6095 - val_loss: 1.1456 - val_accuracy: 0.6277 - lr: 1.0000e-04\n",
      "Epoch 11/20\n",
      "468/469 [============================>.] - ETA: 0s - loss: 1.1779 - accuracy: 0.6095Restoring model weights from the end of the best epoch: 1.\n",
      "469/469 [==============================] - 1s 2ms/step - loss: 1.1780 - accuracy: 0.6095 - val_loss: 1.1465 - val_accuracy: 0.6277 - lr: 1.0000e-04\n",
      "Epoch 11: early stopping\n",
      "201/201 [==============================] - 0s 992us/step - loss: 1.1597 - accuracy: 0.6276\n",
      "Test accuracy: 0.6275700926780701\n",
      "\n",
      "\n",
      "Feature Selection with 10 Features\n",
      "Epoch 1/20\n",
      "469/469 [==============================] - 2s 3ms/step - loss: 1.1986 - accuracy: 0.6089 - val_loss: 1.1508 - val_accuracy: 0.6276 - lr: 0.0010\n",
      "Epoch 2/20\n",
      "469/469 [==============================] - 1s 2ms/step - loss: 1.1860 - accuracy: 0.6095 - val_loss: 1.1494 - val_accuracy: 0.6276 - lr: 0.0010\n",
      "Epoch 3/20\n",
      "469/469 [==============================] - 1s 2ms/step - loss: 1.1864 - accuracy: 0.6095 - val_loss: 1.1637 - val_accuracy: 0.6277 - lr: 0.0010\n",
      "Epoch 4/20\n",
      "450/469 [===========================>..] - ETA: 0s - loss: 1.1844 - accuracy: 0.6106\n",
      "Epoch 4: ReduceLROnPlateau reducing learning rate to 0.0002500000118743628.\n",
      "469/469 [==============================] - 1s 2ms/step - loss: 1.1870 - accuracy: 0.6095 - val_loss: 1.1583 - val_accuracy: 0.6274 - lr: 0.0010\n",
      "Epoch 5/20\n",
      "469/469 [==============================] - 1s 2ms/step - loss: 1.1819 - accuracy: 0.6095 - val_loss: 1.1463 - val_accuracy: 0.6276 - lr: 2.5000e-04\n",
      "Epoch 6/20\n",
      "469/469 [==============================] - 1s 2ms/step - loss: 1.1801 - accuracy: 0.6097 - val_loss: 1.1463 - val_accuracy: 0.6277 - lr: 2.5000e-04\n"
     ]
    },
    {
     "name": "stdout",
     "output_type": "stream",
     "text": [
      "Epoch 7/20\n",
      "450/469 [===========================>..] - ETA: 0s - loss: 1.1824 - accuracy: 0.6085\n",
      "Epoch 7: ReduceLROnPlateau reducing learning rate to 0.0001.\n",
      "469/469 [==============================] - 1s 3ms/step - loss: 1.1805 - accuracy: 0.6096 - val_loss: 1.1462 - val_accuracy: 0.6277 - lr: 2.5000e-04\n",
      "Epoch 8/20\n",
      "469/469 [==============================] - 1s 2ms/step - loss: 1.1791 - accuracy: 0.6095 - val_loss: 1.1466 - val_accuracy: 0.6277 - lr: 1.0000e-04\n",
      "Epoch 9/20\n",
      "469/469 [==============================] - 1s 2ms/step - loss: 1.1781 - accuracy: 0.6095 - val_loss: 1.1458 - val_accuracy: 0.6277 - lr: 1.0000e-04\n",
      "Epoch 10/20\n",
      "469/469 [==============================] - 1s 2ms/step - loss: 1.1770 - accuracy: 0.6096 - val_loss: 1.1470 - val_accuracy: 0.6277 - lr: 1.0000e-04\n",
      "Epoch 11/20\n",
      "442/469 [===========================>..] - ETA: 0s - loss: 1.1765 - accuracy: 0.6109Restoring model weights from the end of the best epoch: 1.\n",
      "469/469 [==============================] - 1s 2ms/step - loss: 1.1785 - accuracy: 0.6096 - val_loss: 1.1471 - val_accuracy: 0.6277 - lr: 1.0000e-04\n",
      "Epoch 11: early stopping\n",
      "201/201 [==============================] - 0s 899us/step - loss: 1.1508 - accuracy: 0.6276\n",
      "Test accuracy: 0.6275700926780701\n",
      "\n",
      "\n",
      "Feature Selection with PCA 2\n",
      "Epoch 1/20\n",
      "469/469 [==============================] - 1s 2ms/step - loss: 1.2014 - accuracy: 0.6089 - val_loss: 1.1550 - val_accuracy: 0.6276 - lr: 0.0010\n",
      "Epoch 2/20\n",
      "469/469 [==============================] - 1s 2ms/step - loss: 1.1849 - accuracy: 0.6095 - val_loss: 1.1562 - val_accuracy: 0.6276 - lr: 0.0010\n",
      "Epoch 3/20\n",
      "469/469 [==============================] - 1s 2ms/step - loss: 1.1846 - accuracy: 0.6095 - val_loss: 1.1583 - val_accuracy: 0.6276 - lr: 0.0010\n",
      "Epoch 4/20\n",
      "451/469 [===========================>..] - ETA: 0s - loss: 1.1853 - accuracy: 0.6093\n",
      "Epoch 4: ReduceLROnPlateau reducing learning rate to 0.0002500000118743628.\n",
      "469/469 [==============================] - 1s 2ms/step - loss: 1.1847 - accuracy: 0.6095 - val_loss: 1.1559 - val_accuracy: 0.6276 - lr: 0.0010\n",
      "Epoch 5/20\n",
      "469/469 [==============================] - 1s 2ms/step - loss: 1.1827 - accuracy: 0.6095 - val_loss: 1.1548 - val_accuracy: 0.6276 - lr: 2.5000e-04\n",
      "Epoch 6/20\n",
      "469/469 [==============================] - 1s 2ms/step - loss: 1.1816 - accuracy: 0.6095 - val_loss: 1.1550 - val_accuracy: 0.6276 - lr: 2.5000e-04\n",
      "Epoch 7/20\n",
      "444/469 [===========================>..] - ETA: 0s - loss: 1.1823 - accuracy: 0.6092\n",
      "Epoch 7: ReduceLROnPlateau reducing learning rate to 0.0001.\n",
      "469/469 [==============================] - 1s 2ms/step - loss: 1.1821 - accuracy: 0.6095 - val_loss: 1.1556 - val_accuracy: 0.6276 - lr: 2.5000e-04\n",
      "Epoch 8/20\n",
      "469/469 [==============================] - 1s 2ms/step - loss: 1.1817 - accuracy: 0.6095 - val_loss: 1.1550 - val_accuracy: 0.6276 - lr: 1.0000e-04\n",
      "Epoch 9/20\n",
      "469/469 [==============================] - 1s 2ms/step - loss: 1.1814 - accuracy: 0.6095 - val_loss: 1.1554 - val_accuracy: 0.6276 - lr: 1.0000e-04\n",
      "Epoch 10/20\n",
      "469/469 [==============================] - 1s 2ms/step - loss: 1.1802 - accuracy: 0.6095 - val_loss: 1.1547 - val_accuracy: 0.6276 - lr: 1.0000e-04\n",
      "Epoch 11/20\n",
      "466/469 [============================>.] - ETA: 0s - loss: 1.1826 - accuracy: 0.6091Restoring model weights from the end of the best epoch: 1.\n",
      "469/469 [==============================] - 1s 2ms/step - loss: 1.1818 - accuracy: 0.6095 - val_loss: 1.1547 - val_accuracy: 0.6276 - lr: 1.0000e-04\n",
      "Epoch 11: early stopping\n",
      "201/201 [==============================] - 0s 883us/step - loss: 1.1550 - accuracy: 0.6276\n",
      "Test accuracy: 0.6275700926780701\n",
      "\n",
      "\n",
      "Feature Selection with PCA 4\n",
      "Epoch 1/20\n",
      "469/469 [==============================] - 1s 2ms/step - loss: 1.2013 - accuracy: 0.6087 - val_loss: 1.1541 - val_accuracy: 0.6276 - lr: 0.0010\n",
      "Epoch 2/20\n",
      "469/469 [==============================] - 1s 2ms/step - loss: 1.1840 - accuracy: 0.6095 - val_loss: 1.1578 - val_accuracy: 0.6276 - lr: 0.0010\n",
      "Epoch 3/20\n",
      "469/469 [==============================] - 1s 2ms/step - loss: 1.1841 - accuracy: 0.6095 - val_loss: 1.1567 - val_accuracy: 0.6276 - lr: 0.0010\n",
      "Epoch 4/20\n",
      "462/469 [============================>.] - ETA: 0s - loss: 1.1838 - accuracy: 0.6095\n",
      "Epoch 4: ReduceLROnPlateau reducing learning rate to 0.0002500000118743628.\n",
      "469/469 [==============================] - 1s 2ms/step - loss: 1.1836 - accuracy: 0.6095 - val_loss: 1.1565 - val_accuracy: 0.6276 - lr: 0.0010\n",
      "Epoch 5/20\n",
      "469/469 [==============================] - 1s 2ms/step - loss: 1.1817 - accuracy: 0.6095 - val_loss: 1.1558 - val_accuracy: 0.6276 - lr: 2.5000e-04\n",
      "Epoch 6/20\n",
      "469/469 [==============================] - 1s 2ms/step - loss: 1.1816 - accuracy: 0.6095 - val_loss: 1.1560 - val_accuracy: 0.6276 - lr: 2.5000e-04\n",
      "Epoch 7/20\n",
      "457/469 [============================>.] - ETA: 0s - loss: 1.1813 - accuracy: 0.6095\n",
      "Epoch 7: ReduceLROnPlateau reducing learning rate to 0.0001.\n",
      "469/469 [==============================] - 1s 2ms/step - loss: 1.1809 - accuracy: 0.6095 - val_loss: 1.1550 - val_accuracy: 0.6276 - lr: 2.5000e-04\n",
      "Epoch 8/20\n",
      "469/469 [==============================] - 1s 2ms/step - loss: 1.1801 - accuracy: 0.6095 - val_loss: 1.1554 - val_accuracy: 0.6276 - lr: 1.0000e-04\n",
      "Epoch 9/20\n",
      "469/469 [==============================] - 1s 2ms/step - loss: 1.1790 - accuracy: 0.6095 - val_loss: 1.1557 - val_accuracy: 0.6276 - lr: 1.0000e-04\n",
      "Epoch 10/20\n",
      "469/469 [==============================] - 1s 2ms/step - loss: 1.1797 - accuracy: 0.6095 - val_loss: 1.1565 - val_accuracy: 0.6276 - lr: 1.0000e-04\n",
      "Epoch 11/20\n",
      "446/469 [===========================>..] - ETA: 0s - loss: 1.1793 - accuracy: 0.6096Restoring model weights from the end of the best epoch: 1.\n",
      "469/469 [==============================] - 1s 2ms/step - loss: 1.1793 - accuracy: 0.6095 - val_loss: 1.1555 - val_accuracy: 0.6276 - lr: 1.0000e-04\n",
      "Epoch 11: early stopping\n",
      "201/201 [==============================] - 0s 983us/step - loss: 1.1541 - accuracy: 0.6276\n",
      "Test accuracy: 0.6275700926780701\n",
      "\n",
      "\n",
      "Feature Selection with PCA 6\n",
      "Epoch 1/20\n",
      "469/469 [==============================] - 2s 3ms/step - loss: 1.2037 - accuracy: 0.6081 - val_loss: 1.1548 - val_accuracy: 0.6276 - lr: 0.0010\n",
      "Epoch 2/20\n",
      "469/469 [==============================] - 1s 2ms/step - loss: 1.1831 - accuracy: 0.6095 - val_loss: 1.1578 - val_accuracy: 0.6276 - lr: 0.0010\n",
      "Epoch 3/20\n",
      "469/469 [==============================] - 1s 2ms/step - loss: 1.1827 - accuracy: 0.6095 - val_loss: 1.1548 - val_accuracy: 0.6276 - lr: 0.0010\n",
      "Epoch 4/20\n",
      "468/469 [============================>.] - ETA: 0s - loss: 1.1806 - accuracy: 0.6096\n",
      "Epoch 4: ReduceLROnPlateau reducing learning rate to 0.0002500000118743628.\n",
      "469/469 [==============================] - 1s 2ms/step - loss: 1.1807 - accuracy: 0.6096 - val_loss: 1.1523 - val_accuracy: 0.6276 - lr: 0.0010\n",
      "Epoch 5/20\n",
      "469/469 [==============================] - 1s 2ms/step - loss: 1.1779 - accuracy: 0.6096 - val_loss: 1.1520 - val_accuracy: 0.6276 - lr: 2.5000e-04\n",
      "Epoch 6/20\n",
      "469/469 [==============================] - 1s 2ms/step - loss: 1.1776 - accuracy: 0.6096 - val_loss: 1.1511 - val_accuracy: 0.6276 - lr: 2.5000e-04\n",
      "Epoch 7/20\n",
      "467/469 [============================>.] - ETA: 0s - loss: 1.1769 - accuracy: 0.6099\n",
      "Epoch 7: ReduceLROnPlateau reducing learning rate to 0.0001.\n",
      "469/469 [==============================] - 1s 2ms/step - loss: 1.1772 - accuracy: 0.6097 - val_loss: 1.1513 - val_accuracy: 0.6276 - lr: 2.5000e-04\n",
      "Epoch 8/20\n",
      "469/469 [==============================] - 1s 2ms/step - loss: 1.1766 - accuracy: 0.6097 - val_loss: 1.1517 - val_accuracy: 0.6276 - lr: 1.0000e-04\n",
      "Epoch 9/20\n",
      "469/469 [==============================] - 1s 2ms/step - loss: 1.1761 - accuracy: 0.6098 - val_loss: 1.1517 - val_accuracy: 0.6276 - lr: 1.0000e-04\n",
      "Epoch 10/20\n",
      "469/469 [==============================] - 1s 3ms/step - loss: 1.1756 - accuracy: 0.6097 - val_loss: 1.1521 - val_accuracy: 0.6276 - lr: 1.0000e-04\n",
      "Epoch 11/20\n",
      "468/469 [============================>.] - ETA: 0s - loss: 1.1751 - accuracy: 0.6098Restoring model weights from the end of the best epoch: 1.\n",
      "469/469 [==============================] - 1s 3ms/step - loss: 1.1751 - accuracy: 0.6098 - val_loss: 1.1513 - val_accuracy: 0.6276 - lr: 1.0000e-04\n",
      "Epoch 11: early stopping\n"
     ]
    },
    {
     "name": "stdout",
     "output_type": "stream",
     "text": [
      "201/201 [==============================] - 0s 1ms/step - loss: 1.1548 - accuracy: 0.6276\n",
      "Test accuracy: 0.6275700926780701\n",
      "\n",
      "\n"
     ]
    }
   ],
   "source": [
    "for i, train_set in enumerate(trainsets):\n",
    "    input_shape = train_set.shape[1]\n",
    "    test_set = testsets[i]\n",
    "    fSMethod = featureSelectionMethods[i]\n",
    "\n",
    "    print(f\"Feature Selection with {fSMethod}\")\n",
    "\n",
    "    model = Sequential()\n",
    "    model.add(Dense(1024, input_shape = (input_shape,), activation = \"relu\"))\n",
    "    model.add(Dropout(0.5))\n",
    "    model.add(Dense(5, activation = \"softmax\"))\n",
    "\n",
    "    model.compile(optimizer = Adam(learning_rate = 0.001), loss = 'categorical_crossentropy', metrics = ['accuracy'])\n",
    "    model.fit(train_set, y_train, validation_data = (test_set, y_test), epochs = 20, callbacks = [early_stopper, reduce_lr])\n",
    "\n",
    "    score = model.evaluate(test_set, y_test, verbose = 1)\n",
    "    print('Test accuracy:', score[1])\n",
    "    print('\\n')"
   ]
  },
  {
   "cell_type": "code",
   "execution_count": null,
   "id": "f6747a90",
   "metadata": {},
   "outputs": [],
   "source": []
  }
 ],
 "metadata": {
  "kernelspec": {
   "display_name": "Python 3 (ipykernel)",
   "language": "python",
   "name": "python3"
  },
  "language_info": {
   "codemirror_mode": {
    "name": "ipython",
    "version": 3
   },
   "file_extension": ".py",
   "mimetype": "text/x-python",
   "name": "python",
   "nbconvert_exporter": "python",
   "pygments_lexer": "ipython3",
   "version": "3.10.1"
  }
 },
 "nbformat": 4,
 "nbformat_minor": 5
}
